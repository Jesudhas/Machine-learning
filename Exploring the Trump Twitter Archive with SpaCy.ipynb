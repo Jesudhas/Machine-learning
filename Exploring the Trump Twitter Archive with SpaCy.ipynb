{
 "cells": [
  {
   "cell_type": "code",
   "execution_count": 4,
   "metadata": {},
   "outputs": [
    {
     "name": "stderr",
     "output_type": "stream",
     "text": [
      "C:\\Users\\jesud\\miniconda3\\lib\\site-packages\\ipykernel_launcher.py:12: FutureWarning: Passing a negative integer is deprecated in version 1.0 and will not be supported in future version. Instead, use None to not limit the column width.\n",
      "  if sys.path[0] == '':\n"
     ]
    }
   ],
   "source": [
    "# for manipulating data\n",
    "import pandas as pd\n",
    "# setting the random seed for reproducibility\n",
    "import random\n",
    "random.seed(493)\n",
    "# to print out all the outputs\n",
    "from IPython.core.interactiveshell import InteractiveShell\n",
    "InteractiveShell.ast_node_interactivity = \"all\"\n",
    "# set display options\n",
    "pd.set_option('display.max_columns', None)\n",
    "pd.set_option('display.max_rows', None)\n",
    "pd.set_option('display.max_colwidth', -1)"
   ]
  },
  {
   "cell_type": "code",
   "execution_count": 5,
   "metadata": {},
   "outputs": [],
   "source": [
    "df = pd.read_csv('trump_20200530_clean.csv', parse_dates=True, index_col='datetime')"
   ]
  },
  {
   "cell_type": "code",
   "execution_count": 6,
   "metadata": {},
   "outputs": [
    {
     "data": {
      "text/html": [
       "<div>\n",
       "<style scoped>\n",
       "    .dataframe tbody tr th:only-of-type {\n",
       "        vertical-align: middle;\n",
       "    }\n",
       "\n",
       "    .dataframe tbody tr th {\n",
       "        vertical-align: top;\n",
       "    }\n",
       "\n",
       "    .dataframe thead th {\n",
       "        text-align: right;\n",
       "    }\n",
       "</style>\n",
       "<table border=\"1\" class=\"dataframe\">\n",
       "  <thead>\n",
       "    <tr style=\"text-align: right;\">\n",
       "      <th></th>\n",
       "      <th>tweet</th>\n",
       "      <th>retweets</th>\n",
       "      <th>favorites</th>\n",
       "    </tr>\n",
       "    <tr>\n",
       "      <th>datetime</th>\n",
       "      <th></th>\n",
       "      <th></th>\n",
       "      <th></th>\n",
       "    </tr>\n",
       "  </thead>\n",
       "  <tbody>\n",
       "    <tr>\n",
       "      <th>2020-05-30 03:20:18</th>\n",
       "      <td>Time for a change! #2020 https://t.co/AECy2GBfys</td>\n",
       "      <td>42879</td>\n",
       "      <td>164022</td>\n",
       "    </tr>\n",
       "    <tr>\n",
       "      <th>2020-05-29 19:46:15</th>\n",
       "      <td>https://t.co/mljmx2o0G7</td>\n",
       "      <td>48713</td>\n",
       "      <td>176310</td>\n",
       "    </tr>\n",
       "    <tr>\n",
       "      <th>2020-05-29 18:20:06</th>\n",
       "      <td>Looting leads to shooting and that’s why a man was shot and killed in Minneapolis on Wednesday night - or look at what just happened in Louisville with 7 people shot. I don’t want this to happen and that’s what the expression put out last night means....</td>\n",
       "      <td>52444</td>\n",
       "      <td>241219</td>\n",
       "    </tr>\n",
       "    <tr>\n",
       "      <th>2020-05-29 18:20:06</th>\n",
       "      <td>....It was spoken as a fact not as a statement. It’s very simple nobody should have any problem with this other than the haters and those looking to cause trouble on social media. Honor the memory of George Floyd!</td>\n",
       "      <td>31263</td>\n",
       "      <td>158594</td>\n",
       "    </tr>\n",
       "    <tr>\n",
       "      <th>2020-05-29 15:15:41</th>\n",
       "      <td>REVOKE 230!</td>\n",
       "      <td>38582</td>\n",
       "      <td>195262</td>\n",
       "    </tr>\n",
       "  </tbody>\n",
       "</table>\n",
       "</div>"
      ],
      "text/plain": [
       "                                                                                                                                                                                                                                                                              tweet  \\\n",
       "datetime                                                                                                                                                                                                                                                                              \n",
       "2020-05-30 03:20:18  Time for a change! #2020 https://t.co/AECy2GBfys                                                                                                                                                                                                                 \n",
       "2020-05-29 19:46:15  https://t.co/mljmx2o0G7                                                                                                                                                                                                                                          \n",
       "2020-05-29 18:20:06  Looting leads to shooting and that’s why a man was shot and killed in Minneapolis on Wednesday night - or look at what just happened in Louisville with 7 people shot. I don’t want this to happen and that’s what the expression put out last night means....   \n",
       "2020-05-29 18:20:06  ....It was spoken as a fact not as a statement. It’s very simple nobody should have any problem with this other than the haters and those looking to cause trouble on social media. Honor the memory of George Floyd!                                            \n",
       "2020-05-29 15:15:41  REVOKE 230!                                                                                                                                                                                                                                                      \n",
       "\n",
       "                     retweets  favorites  \n",
       "datetime                                  \n",
       "2020-05-30 03:20:18  42879     164022     \n",
       "2020-05-29 19:46:15  48713     176310     \n",
       "2020-05-29 18:20:06  52444     241219     \n",
       "2020-05-29 18:20:06  31263     158594     \n",
       "2020-05-29 15:15:41  38582     195262     "
      ]
     },
     "execution_count": 6,
     "metadata": {},
     "output_type": "execute_result"
    },
    {
     "name": "stdout",
     "output_type": "stream",
     "text": [
      "<class 'pandas.core.frame.DataFrame'>\n",
      "DatetimeIndex: 15890 entries, 2020-05-30 03:20:18 to 2017-01-20 17:51:25\n",
      "Data columns (total 3 columns):\n",
      " #   Column     Non-Null Count  Dtype \n",
      "---  ------     --------------  ----- \n",
      " 0   tweet      15890 non-null  object\n",
      " 1   retweets   15890 non-null  int64 \n",
      " 2   favorites  15890 non-null  int64 \n",
      "dtypes: int64(2), object(1)\n",
      "memory usage: 496.6+ KB\n"
     ]
    }
   ],
   "source": [
    "df.head()\n",
    "df.info()"
   ]
  },
  {
   "cell_type": "code",
   "execution_count": 7,
   "metadata": {},
   "outputs": [],
   "source": [
    "# for natural language processing: named entity recognition\n",
    "import spacy\n",
    "import en_core_web_sm"
   ]
  },
  {
   "cell_type": "code",
   "execution_count": 8,
   "metadata": {},
   "outputs": [],
   "source": [
    "#We’re only going to use spaCy’s ner functionality or named-entity recognition so we’ll disable the rest of the functionalities. This will save us a lot of loading time later\n",
    "nlp = spacy.load('en_core_web_sm', disable=['tagger', 'parser', 'textcat'])"
   ]
  },
  {
   "cell_type": "code",
   "execution_count": 9,
   "metadata": {},
   "outputs": [],
   "source": [
    "#Now let’s load the contents stopwords file into the variable stopswords. Note that we converted the list into a set to also save some processing time later.\n",
    "with open('twitter-stopwords - TA - Less.txt') as f:\n",
    "    contents = f.read().split(',')\n",
    "stopwords = set(contents)"
   ]
  },
  {
   "cell_type": "markdown",
   "metadata": {},
   "source": [
    "##### Next, we’ll import joblib and define a few functions to help with parallel processing."
   ]
  },
  {
   "cell_type": "code",
   "execution_count": 13,
   "metadata": {},
   "outputs": [],
   "source": [
    "from joblib import Parallel, delayed\n",
    "def chunker(iterable, total_length, chunksize):\n",
    "    return (iterable[pos: pos + chunksize] for pos in range(0, total_length, chunksize))\n",
    "\n",
    "def flatten(list_of_lists):\n",
    "    \"Flatten a list of lists to a combined list\"\n",
    "    return [item for sublist in list_of_lists for item in sublist]"
   ]
  },
  {
   "cell_type": "code",
   "execution_count": 16,
   "metadata": {},
   "outputs": [],
   "source": [
    "def process_chunk(texts):\n",
    "    preproc_pipe = []\n",
    "    for doc in nlp.pipe(texts, batch_size=20):\n",
    "        preproc_pipe.append([(ent.text) for ent in doc.ents if ent.label_ in ['NORP', 'PERSON', 'FAC', 'ORG', 'GPE', 'LOC', 'PRODUCT', 'EVENT']])\n",
    "    return preproc_pipe"
   ]
  },
  {
   "cell_type": "code",
   "execution_count": 11,
   "metadata": {},
   "outputs": [],
   "source": [
    "def preprocess_parallel(texts, chunksize=1000):\n",
    "    executor = Parallel(n_jobs=7, backend='multiprocessing', prefer=\"processes\")\n",
    "    do = delayed(process_chunk)\n",
    "    tasks = (do(chunk) for chunk in chunker(texts, len(df), chunksize=chunksize))\n",
    "    result = executor(tasks)\n",
    "    return flatten(result)"
   ]
  },
  {
   "cell_type": "raw",
   "metadata": {},
   "source": [
    "In the code above², the function preprocess_parallel executes the other function process_chunks in parallel to help with speed. The function process_chunks iterates through a series of texts — in our case, the column 'tweet' of our the df dataframe — and inspects the entity if it belongs to either NORP, PERSON, FAC, ORG, GPE, LOC, PRODUCT, or EVENT. If it is, the entity is then appended to 'preproc_pipe' and subsequently returned to its caller. Prashanth Rao has a very good article on making spaCy super fast."
   ]
  },
  {
   "cell_type": "raw",
   "metadata": {},
   "source": [
    "Let’s call the main driver for the functions now."
   ]
  },
  {
   "cell_type": "code",
   "execution_count": null,
   "metadata": {},
   "outputs": [],
   "source": [
    "df['entities'] = preprocess_parallel(df['tweet'], chunksize=1000)"
   ]
  },
  {
   "cell_type": "code",
   "execution_count": null,
   "metadata": {},
   "outputs": [],
   "source": [
    "entities = [entity for entity in df.entities if entity != []]\n",
    "entities = [item for sublist in entities for item in sublist]\n",
    "entities_set = set(entities)"
   ]
  },
  {
   "cell_type": "code",
   "execution_count": null,
   "metadata": {},
   "outputs": [],
   "source": [
    "df.head()"
   ]
  },
  {
   "cell_type": "code",
   "execution_count": null,
   "metadata": {},
   "outputs": [],
   "source": [
    "entities = [entity for entity in df.entities if entity != []]\n",
    "entities = [item for sublist in entities for item in sublist]\n",
    "entities_set = set(entities)"
   ]
  },
  {
   "cell_type": "code",
   "execution_count": null,
   "metadata": {},
   "outputs": [],
   "source": [
    "df_counts = pd.Series(entities).value_counts()[:20].to_frame().reset_index()\n",
    "df_counts.columns=['entity', 'count']\n",
    "df_counts"
   ]
  },
  {
   "cell_type": "code",
   "execution_count": null,
   "metadata": {},
   "outputs": [],
   "source": [
    "from spacy.lang.en import English"
   ]
  },
  {
   "cell_type": "code",
   "execution_count": null,
   "metadata": {},
   "outputs": [],
   "source": [
    "nlp = English()"
   ]
  },
  {
   "cell_type": "code",
   "execution_count": null,
   "metadata": {},
   "outputs": [],
   "source": [
    "doc1 = nlp(\"I like fast food\")\n",
    "doc2 = nlp(\"I like Pizza\")\n",
    "print(doc1.similarity(doc2))"
   ]
  },
  {
   "cell_type": "code",
   "execution_count": null,
   "metadata": {},
   "outputs": [],
   "source": []
  }
 ],
 "metadata": {
  "kernelspec": {
   "display_name": "Python 3",
   "language": "python",
   "name": "python3"
  },
  "language_info": {
   "codemirror_mode": {
    "name": "ipython",
    "version": 3
   },
   "file_extension": ".py",
   "mimetype": "text/x-python",
   "name": "python",
   "nbconvert_exporter": "python",
   "pygments_lexer": "ipython3",
   "version": "3.7.7"
  }
 },
 "nbformat": 4,
 "nbformat_minor": 4
}
